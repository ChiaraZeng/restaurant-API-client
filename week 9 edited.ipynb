{
 "cells": [
  {
   "cell_type": "code",
   "execution_count": 5,
   "id": "e078b3ee-4b7f-4dc0-8af3-2583ed5138a1",
   "metadata": {},
   "outputs": [
    {
     "name": "stdout",
     "output_type": "stream",
     "text": [
      "              precision    recall  f1-score   support\n",
      "\n",
      "        high       0.70      0.69      0.70       126\n",
      "      medium       0.56      0.57      0.57        87\n",
      "\n",
      "    accuracy                           0.64       213\n",
      "   macro avg       0.63      0.63      0.63       213\n",
      "weighted avg       0.64      0.64      0.64       213\n",
      "\n"
     ]
    }
   ],
   "source": [
    "import pandas as pd\n",
    "from sklearn.model_selection import train_test_split\n",
    "from sklearn.ensemble import RandomForestClassifier\n",
    "from sklearn.metrics import classification_report\n",
    "from sklearn.preprocessing import LabelEncoder\n",
    "\n",
    "# === 1. Load data ===\n",
    "df = pd.read_csv('combined_restaurants_enriched.csv')\n",
    "\n",
    "# === 2. Convert relevant columns ===\n",
    "df['rating'] = pd.to_numeric(df['rating'], errors='coerce')\n",
    "df['price_level'] = pd.to_numeric(df['price_level'], errors='coerce')\n",
    "\n",
    "# === 3. Define multiclass target ===\n",
    "def classify_rating(rating):\n",
    "    if rating < 3.5:\n",
    "        return 'low'\n",
    "    elif rating < 4.5:\n",
    "        return 'medium'\n",
    "    else:\n",
    "        return 'high'\n",
    "\n",
    "df['rating_label'] = df['rating'].apply(classify_rating)\n",
    "\n",
    "# === 4. Define features ===\n",
    "feature_cols = [\n",
    "    'price_level',\n",
    "    'Estimate!!Total!!Total population!!AGE!!25 to 29 years',\n",
    "    'Estimate!!Total!!Total population!!AGE!!30 to 34 years',\n",
    "    'Estimate!!Total!!Total population!!AGE!!35 to 39 years',\n",
    "    'Estimate!!Total!!Total population!!AGE!!40 to 44 years',\n",
    "    'Estimate!!Total!!Total population!!AGE!!45 to 49 years'\n",
    "]\n",
    "\n",
    "# === 5. Drop rows with missing values ===\n",
    "df_model = df.dropna(subset=feature_cols + ['rating_label'])\n",
    "\n",
    "X = df_model[feature_cols]\n",
    "y = df_model['rating_label']\n",
    "\n",
    "# === 6. Encode labels ===\n",
    "label_encoder = LabelEncoder()\n",
    "y_encoded = label_encoder.fit_transform(y)\n",
    "\n",
    "# === 7. Train/test split ===\n",
    "X_train, X_test, y_train, y_test = train_test_split(X, y_encoded, test_size=0.2, random_state=42)\n",
    "\n",
    "# === 8. Train Random Forest ===\n",
    "clf = RandomForestClassifier(n_estimators=100, random_state=42)\n",
    "clf.fit(X_train, y_train)\n",
    "\n",
    "# === 9. Evaluate ===\n",
    "y_pred = clf.predict(X_test)\n",
    "print(classification_report(y_test, y_pred, target_names=label_encoder.classes_))\n"
   ]
  },
  {
   "cell_type": "code",
   "execution_count": null,
   "id": "fe4eab17-bdd5-43cc-8cb6-01107360b8bb",
   "metadata": {},
   "outputs": [],
   "source": []
  }
 ],
 "metadata": {
  "kernelspec": {
   "display_name": "Python 3 (ipykernel)",
   "language": "python",
   "name": "python3"
  },
  "language_info": {
   "codemirror_mode": {
    "name": "ipython",
    "version": 3
   },
   "file_extension": ".py",
   "mimetype": "text/x-python",
   "name": "python",
   "nbconvert_exporter": "python",
   "pygments_lexer": "ipython3",
   "version": "3.12.4"
  }
 },
 "nbformat": 4,
 "nbformat_minor": 5
}
